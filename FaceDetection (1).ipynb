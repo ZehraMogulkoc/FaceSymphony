{
 "cells": [
  {
   "cell_type": "markdown",
   "metadata": {
    "id": "Ro6fnfThEXqd"
   },
   "source": [
    "Install Necessary Libraries"
   ]
  },
  {
   "cell_type": "markdown",
   "metadata": {
    "id": "yMXpDtAyEXJg"
   },
   "source": [
    "Importing Dependencies"
   ]
  },
  {
   "cell_type": "code",
   "execution_count": 237,
   "metadata": {
    "colab": {
     "base_uri": "https://localhost:8080/"
    },
    "id": "LbCDShhIOtRZ",
    "outputId": "27db1781-d4e1-4f0f-d7f9-a9aaac00205f"
   },
   "outputs": [
    {
     "name": "stdout",
     "output_type": "stream",
     "text": [
      "Requirement already satisfied: tensorflow in c:\\users\\lenovo\\appdata\\roaming\\python\\python311\\site-packages (2.13.0)\n",
      "Requirement already satisfied: opencv-python in c:\\users\\lenovo\\.conda\\envs\\for-jupyter\\lib\\site-packages (4.8.1.78)\n",
      "Requirement already satisfied: matplotlib in c:\\users\\lenovo\\.conda\\envs\\for-jupyter\\lib\\site-packages (3.8.0)\n",
      "Requirement already satisfied: tensorflow-intel==2.13.0 in c:\\users\\lenovo\\appdata\\roaming\\python\\python311\\site-packages (from tensorflow) (2.13.0)\n",
      "Requirement already satisfied: absl-py>=1.0.0 in c:\\users\\lenovo\\appdata\\roaming\\python\\python311\\site-packages (from tensorflow-intel==2.13.0->tensorflow) (1.4.0)\n",
      "Requirement already satisfied: astunparse>=1.6.0 in c:\\users\\lenovo\\appdata\\roaming\\python\\python311\\site-packages (from tensorflow-intel==2.13.0->tensorflow) (1.6.3)\n",
      "Requirement already satisfied: flatbuffers>=23.1.21 in c:\\users\\lenovo\\appdata\\roaming\\python\\python311\\site-packages (from tensorflow-intel==2.13.0->tensorflow) (23.5.26)\n",
      "Requirement already satisfied: gast<=0.4.0,>=0.2.1 in c:\\users\\lenovo\\appdata\\roaming\\python\\python311\\site-packages (from tensorflow-intel==2.13.0->tensorflow) (0.4.0)\n",
      "Requirement already satisfied: google-pasta>=0.1.1 in c:\\users\\lenovo\\appdata\\roaming\\python\\python311\\site-packages (from tensorflow-intel==2.13.0->tensorflow) (0.2.0)\n",
      "Requirement already satisfied: h5py>=2.9.0 in c:\\users\\lenovo\\.conda\\envs\\for-jupyter\\lib\\site-packages (from tensorflow-intel==2.13.0->tensorflow) (3.10.0)\n",
      "Requirement already satisfied: libclang>=13.0.0 in c:\\users\\lenovo\\appdata\\roaming\\python\\python311\\site-packages (from tensorflow-intel==2.13.0->tensorflow) (16.0.6)\n",
      "Requirement already satisfied: numpy<=1.24.3,>=1.22 in c:\\users\\lenovo\\.conda\\envs\\for-jupyter\\lib\\site-packages (from tensorflow-intel==2.13.0->tensorflow) (1.24.3)\n",
      "Requirement already satisfied: opt-einsum>=2.3.2 in c:\\users\\lenovo\\appdata\\roaming\\python\\python311\\site-packages (from tensorflow-intel==2.13.0->tensorflow) (3.3.0)\n",
      "Requirement already satisfied: packaging in c:\\users\\lenovo\\.conda\\envs\\for-jupyter\\lib\\site-packages (from tensorflow-intel==2.13.0->tensorflow) (23.1)\n",
      "Requirement already satisfied: protobuf!=4.21.0,!=4.21.1,!=4.21.2,!=4.21.3,!=4.21.4,!=4.21.5,<5.0.0dev,>=3.20.3 in c:\\users\\lenovo\\appdata\\roaming\\python\\python311\\site-packages (from tensorflow-intel==2.13.0->tensorflow) (4.24.3)\n",
      "Requirement already satisfied: setuptools in c:\\users\\lenovo\\.conda\\envs\\for-jupyter\\lib\\site-packages (from tensorflow-intel==2.13.0->tensorflow) (68.0.0)\n",
      "Requirement already satisfied: six>=1.12.0 in c:\\users\\lenovo\\.conda\\envs\\for-jupyter\\lib\\site-packages (from tensorflow-intel==2.13.0->tensorflow) (1.16.0)\n",
      "Requirement already satisfied: termcolor>=1.1.0 in c:\\users\\lenovo\\appdata\\roaming\\python\\python311\\site-packages (from tensorflow-intel==2.13.0->tensorflow) (2.3.0)\n",
      "Requirement already satisfied: typing-extensions<4.6.0,>=3.6.6 in c:\\users\\lenovo\\appdata\\roaming\\python\\python311\\site-packages (from tensorflow-intel==2.13.0->tensorflow) (4.5.0)\n",
      "Requirement already satisfied: wrapt>=1.11.0 in c:\\users\\lenovo\\.conda\\envs\\for-jupyter\\lib\\site-packages (from tensorflow-intel==2.13.0->tensorflow) (1.15.0)\n",
      "Requirement already satisfied: grpcio<2.0,>=1.24.3 in c:\\users\\lenovo\\appdata\\roaming\\python\\python311\\site-packages (from tensorflow-intel==2.13.0->tensorflow) (1.58.0)\n",
      "Requirement already satisfied: tensorboard<2.14,>=2.13 in c:\\users\\lenovo\\appdata\\roaming\\python\\python311\\site-packages (from tensorflow-intel==2.13.0->tensorflow) (2.13.0)\n",
      "Requirement already satisfied: tensorflow-estimator<2.14,>=2.13.0 in c:\\users\\lenovo\\appdata\\roaming\\python\\python311\\site-packages (from tensorflow-intel==2.13.0->tensorflow) (2.13.0)\n",
      "Requirement already satisfied: keras<2.14,>=2.13.1 in c:\\users\\lenovo\\appdata\\roaming\\python\\python311\\site-packages (from tensorflow-intel==2.13.0->tensorflow) (2.13.1)\n",
      "Requirement already satisfied: tensorflow-io-gcs-filesystem>=0.23.1 in c:\\users\\lenovo\\appdata\\roaming\\python\\python311\\site-packages (from tensorflow-intel==2.13.0->tensorflow) (0.31.0)\n",
      "Requirement already satisfied: contourpy>=1.0.1 in c:\\users\\lenovo\\.conda\\envs\\for-jupyter\\lib\\site-packages (from matplotlib) (1.1.1)\n",
      "Requirement already satisfied: cycler>=0.10 in c:\\users\\lenovo\\.conda\\envs\\for-jupyter\\lib\\site-packages (from matplotlib) (0.12.1)\n",
      "Requirement already satisfied: fonttools>=4.22.0 in c:\\users\\lenovo\\.conda\\envs\\for-jupyter\\lib\\site-packages (from matplotlib) (4.43.1)\n",
      "Requirement already satisfied: kiwisolver>=1.0.1 in c:\\users\\lenovo\\.conda\\envs\\for-jupyter\\lib\\site-packages (from matplotlib) (1.4.5)\n",
      "Requirement already satisfied: pillow>=6.2.0 in c:\\users\\lenovo\\.conda\\envs\\for-jupyter\\lib\\site-packages (from matplotlib) (10.0.1)\n",
      "Requirement already satisfied: pyparsing>=2.3.1 in c:\\users\\lenovo\\.conda\\envs\\for-jupyter\\lib\\site-packages (from matplotlib) (3.1.1)\n",
      "Requirement already satisfied: python-dateutil>=2.7 in c:\\users\\lenovo\\.conda\\envs\\for-jupyter\\lib\\site-packages (from matplotlib) (2.8.2)\n",
      "Requirement already satisfied: wheel<1.0,>=0.23.0 in c:\\users\\lenovo\\.conda\\envs\\for-jupyter\\lib\\site-packages (from astunparse>=1.6.0->tensorflow-intel==2.13.0->tensorflow) (0.41.2)\n",
      "Requirement already satisfied: google-auth<3,>=1.6.3 in c:\\users\\lenovo\\appdata\\roaming\\python\\python311\\site-packages (from tensorboard<2.14,>=2.13->tensorflow-intel==2.13.0->tensorflow) (2.23.0)\n",
      "Requirement already satisfied: google-auth-oauthlib<1.1,>=0.5 in c:\\users\\lenovo\\appdata\\roaming\\python\\python311\\site-packages (from tensorboard<2.14,>=2.13->tensorflow-intel==2.13.0->tensorflow) (1.0.0)\n",
      "Requirement already satisfied: markdown>=2.6.8 in c:\\users\\lenovo\\.conda\\envs\\for-jupyter\\lib\\site-packages (from tensorboard<2.14,>=2.13->tensorflow-intel==2.13.0->tensorflow) (3.5)\n",
      "Requirement already satisfied: requests<3,>=2.21.0 in c:\\users\\lenovo\\.conda\\envs\\for-jupyter\\lib\\site-packages (from tensorboard<2.14,>=2.13->tensorflow-intel==2.13.0->tensorflow) (2.31.0)\n",
      "Requirement already satisfied: tensorboard-data-server<0.8.0,>=0.7.0 in c:\\users\\lenovo\\appdata\\roaming\\python\\python311\\site-packages (from tensorboard<2.14,>=2.13->tensorflow-intel==2.13.0->tensorflow) (0.7.1)\n",
      "Requirement already satisfied: werkzeug>=1.0.1 in c:\\users\\lenovo\\.conda\\envs\\for-jupyter\\lib\\site-packages (from tensorboard<2.14,>=2.13->tensorflow-intel==2.13.0->tensorflow) (3.0.0)\n",
      "Requirement already satisfied: cachetools<6.0,>=2.0.0 in c:\\users\\lenovo\\appdata\\roaming\\python\\python311\\site-packages (from google-auth<3,>=1.6.3->tensorboard<2.14,>=2.13->tensorflow-intel==2.13.0->tensorflow) (5.3.1)\n",
      "Requirement already satisfied: pyasn1-modules>=0.2.1 in c:\\users\\lenovo\\.conda\\envs\\for-jupyter\\lib\\site-packages (from google-auth<3,>=1.6.3->tensorboard<2.14,>=2.13->tensorflow-intel==2.13.0->tensorflow) (0.3.0)\n",
      "Requirement already satisfied: rsa<5,>=3.1.4 in c:\\users\\lenovo\\appdata\\roaming\\python\\python311\\site-packages (from google-auth<3,>=1.6.3->tensorboard<2.14,>=2.13->tensorflow-intel==2.13.0->tensorflow) (4.9)\n",
      "Requirement already satisfied: urllib3<2.0 in c:\\users\\lenovo\\.conda\\envs\\for-jupyter\\lib\\site-packages (from google-auth<3,>=1.6.3->tensorboard<2.14,>=2.13->tensorflow-intel==2.13.0->tensorflow) (1.26.17)\n",
      "Requirement already satisfied: requests-oauthlib>=0.7.0 in c:\\users\\lenovo\\appdata\\roaming\\python\\python311\\site-packages (from google-auth-oauthlib<1.1,>=0.5->tensorboard<2.14,>=2.13->tensorflow-intel==2.13.0->tensorflow) (1.3.1)\n",
      "Requirement already satisfied: charset-normalizer<4,>=2 in c:\\users\\lenovo\\.conda\\envs\\for-jupyter\\lib\\site-packages (from requests<3,>=2.21.0->tensorboard<2.14,>=2.13->tensorflow-intel==2.13.0->tensorflow) (3.3.0)\n",
      "Requirement already satisfied: idna<4,>=2.5 in c:\\users\\lenovo\\.conda\\envs\\for-jupyter\\lib\\site-packages (from requests<3,>=2.21.0->tensorboard<2.14,>=2.13->tensorflow-intel==2.13.0->tensorflow) (3.4)\n",
      "Requirement already satisfied: certifi>=2017.4.17 in c:\\users\\lenovo\\.conda\\envs\\for-jupyter\\lib\\site-packages (from requests<3,>=2.21.0->tensorboard<2.14,>=2.13->tensorflow-intel==2.13.0->tensorflow) (2023.7.22)\n",
      "Requirement already satisfied: MarkupSafe>=2.1.1 in c:\\users\\lenovo\\.conda\\envs\\for-jupyter\\lib\\site-packages (from werkzeug>=1.0.1->tensorboard<2.14,>=2.13->tensorflow-intel==2.13.0->tensorflow) (2.1.1)\n",
      "Requirement already satisfied: pyasn1<0.6.0,>=0.4.6 in c:\\users\\lenovo\\.conda\\envs\\for-jupyter\\lib\\site-packages (from pyasn1-modules>=0.2.1->google-auth<3,>=1.6.3->tensorboard<2.14,>=2.13->tensorflow-intel==2.13.0->tensorflow) (0.5.0)\n",
      "Requirement already satisfied: oauthlib>=3.0.0 in c:\\users\\lenovo\\appdata\\roaming\\python\\python311\\site-packages (from requests-oauthlib>=0.7.0->google-auth-oauthlib<1.1,>=0.5->tensorboard<2.14,>=2.13->tensorflow-intel==2.13.0->tensorflow) (3.2.2)\n"
     ]
    }
   ],
   "source": [
    "!pip install tensorflow  opencv-python matplotlib"
   ]
  },
  {
   "cell_type": "code",
   "execution_count": 296,
   "metadata": {
    "id": "8-3buZ2sEWVj"
   },
   "outputs": [],
   "source": [
    "# Import standard dependencies\n",
    "import cv2\n",
    "import os\n",
    "import random\n",
    "import numpy as np\n",
    "from matplotlib import pyplot as plt"
   ]
  },
  {
   "cell_type": "code",
   "execution_count": 297,
   "metadata": {
    "id": "m_vi_-tUEfKa"
   },
   "outputs": [],
   "source": [
    "# Import tensorflow dependencies - Functional API\n",
    "from tensorflow.keras.models import Model\n",
    "from tensorflow.keras.layers import Layer, Conv2D, Dense, MaxPooling2D, Input, Flatten\n",
    "import tensorflow as tf"
   ]
  },
  {
   "cell_type": "markdown",
   "metadata": {
    "id": "Hjbg6nA1ElOe"
   },
   "source": [
    "GPU Settings"
   ]
  },
  {
   "cell_type": "code",
   "execution_count": 298,
   "metadata": {
    "id": "_AFKvbXKEnb3"
   },
   "outputs": [],
   "source": [
    "# Avoid OOM errors by setting GPU Memory Consumption Growth\n",
    "gpus = tf.config.experimental.list_physical_devices('GPU')\n",
    "for gpu in gpus:\n",
    "    tf.config.experimental.set_memory_growth(gpu, True)"
   ]
  },
  {
   "cell_type": "markdown",
   "metadata": {
    "id": "OiVZ1xECErMg"
   },
   "source": [
    "Folder Settings"
   ]
  },
  {
   "cell_type": "code",
   "execution_count": 299,
   "metadata": {
    "id": "iguJ-EsGEtE_"
   },
   "outputs": [],
   "source": [
    "# Setup paths\n",
    "POS_PATH = os.path.join('data', 'positive')\n",
    "NEG_PATH = os.path.join('data', 'negative')\n",
    "ANC_PATH = os.path.join('data', 'anchor')"
   ]
  },
  {
   "cell_type": "code",
   "execution_count": 302,
   "metadata": {
    "id": "mbuMSDrSEvGs"
   },
   "outputs": [],
   "source": [
    "# Make the directories\n",
    "os.makedirs(POS_PATH)\n",
    "os.makedirs(NEG_PATH)\n",
    "os.makedirs(ANC_PATH)"
   ]
  },
  {
   "cell_type": "markdown",
   "metadata": {
    "id": "RfrVremEEz-W"
   },
   "source": [
    "Collect Data"
   ]
  },
  {
   "cell_type": "code",
   "execution_count": 151,
   "metadata": {
    "id": "2BhngMM-FEmB"
   },
   "outputs": [],
   "source": [
    "# http://vis-www.cs.umass.edu/lfw/"
   ]
  },
  {
   "cell_type": "code",
   "execution_count": 152,
   "metadata": {
    "colab": {
     "base_uri": "https://localhost:8080/"
    },
    "id": "P51poGKfFONj",
    "outputId": "6bc2ee08-bdbb-445b-83c3-2459044f2d24"
   },
   "outputs": [],
   "source": [
    "!tar -xf lfw.tgz"
   ]
  },
  {
   "cell_type": "code",
   "execution_count": 153,
   "metadata": {
    "id": "5LKjh_QoIzYe"
   },
   "outputs": [],
   "source": [
    "# Move LFW Images to the following repository data/negative\n",
    "for directory in os.listdir('lfw'):\n",
    "    for file in os.listdir(os.path.join('lfw', directory)):\n",
    "        EX_PATH = os.path.join('lfw', directory, file)\n",
    "        NEW_PATH = os.path.join(NEG_PATH, file)\n",
    "        os.replace(EX_PATH, NEW_PATH)"
   ]
  },
  {
   "cell_type": "markdown",
   "metadata": {
    "id": "ClZDIR3CI_nF"
   },
   "source": [
    "Positive Images"
   ]
  },
  {
   "cell_type": "code",
   "execution_count": 303,
   "metadata": {
    "id": "WP6POrXIJBFo"
   },
   "outputs": [
    {
     "data": {
      "text/plain": [
       "'data\\\\anchor\\\\d3671d61-6b83-11ee-b38a-b06088d48e19.jpg'"
      ]
     },
     "execution_count": 303,
     "metadata": {},
     "output_type": "execute_result"
    }
   ],
   "source": [
    "import uuid\n",
    "# Import uuid library to generate unique image names\n",
    "os.path.join(ANC_PATH, '{}.jpg'.format(uuid.uuid1()))"
   ]
  },
  {
   "cell_type": "code",
   "execution_count": 304,
   "metadata": {},
   "outputs": [],
   "source": [
    "#I wanna see myself befor continue\n",
    "\n",
    "cap = cv2.VideoCapture(0)\n",
    "\n",
    "while cap.isOpened():\n",
    "    ret, frame = cap.read()\n",
    "    cv2.imshow('Image Collection',frame)\n",
    "    if cv2.waitKey(1) & 0XFF == ord('q'):\n",
    "        break\n",
    "        \n",
    "# Release the webcam\n",
    "cap.release()\n",
    "# Close the image show frame\n",
    "cv2.destroyAllWindows()"
   ]
  },
  {
   "cell_type": "code",
   "execution_count": 305,
   "metadata": {},
   "outputs": [
    {
     "data": {
      "text/plain": [
       "(480, 640, 3)"
      ]
     },
     "execution_count": 305,
     "metadata": {},
     "output_type": "execute_result"
    }
   ],
   "source": [
    "#plt.imshow(frame)\n",
    "frame.shape\n"
   ]
  },
  {
   "cell_type": "code",
   "execution_count": 306,
   "metadata": {
    "id": "DtnJehhAJy3G"
   },
   "outputs": [],
   "source": [
    "# Establish a connection to the webcam\n",
    "cap = cv2.VideoCapture(0)\n",
    "while cap.isOpened():\n",
    "    ret, frame = cap.read()\n",
    "\n",
    "    # Cut down frame to 250x250px\n",
    "    frame = frame[120:120+250,200:200+250, :]\n",
    "\n",
    "    # Collect anchors\n",
    "    if cv2.waitKey(1) & 0XFF == ord('a'):\n",
    "        # Create the unique file path\n",
    "        imganc = os.path.join(ANC_PATH, '{}.jpg'.format(uuid.uuid1()))\n",
    "        # Write out anchor image\n",
    "        cv2.imwrite(imganc, frame)\n",
    "\n",
    "    # Collect positives\n",
    "    if cv2.waitKey(1) & 0XFF == ord('p'):\n",
    "        # Create the unique file path\n",
    "        imgpos = os.path.join(POS_PATH, '{}.jpg'.format(uuid.uuid1()))\n",
    "        # Write out positive image\n",
    "        cv2.imwrite(imgpos, frame)\n",
    "\n",
    "    # Show image back to screen\n",
    "    cv2.imshow('Image Collection', frame)\n",
    "\n",
    "    # Breaking gracefully\n",
    "    if cv2.waitKey(1) & 0XFF == ord('q'):\n",
    "        break\n",
    "\n",
    "# Release the webcam\n",
    "cap.release()\n",
    "# Close the image show frame\n",
    "cv2.destroyAllWindows()"
   ]
  },
  {
   "cell_type": "code",
   "execution_count": 307,
   "metadata": {},
   "outputs": [],
   "source": [
    "def data_aug(img):\n",
    "    data = []\n",
    "    for i in range(9):\n",
    "        img = tf.image.stateless_random_brightness(img, max_delta=0.02, seed=(1,2))\n",
    "        img = tf.image.stateless_random_contrast(img, lower=0.6, upper=1, seed=(1,3))\n",
    "        # img = tf.image.stateless_random_crop(img, size=(20,20,3), seed=(1,2))\n",
    "        img = tf.image.stateless_random_flip_left_right(img, seed=(np.random.randint(100),np.random.randint(100)))\n",
    "        img = tf.image.stateless_random_jpeg_quality(img, min_jpeg_quality=90, max_jpeg_quality=100, seed=(np.random.randint(100),np.random.randint(100)))\n",
    "        img = tf.image.stateless_random_saturation(img, lower=0.9,upper=1, seed=(np.random.randint(100),np.random.randint(100)))\n",
    "            \n",
    "        data.append(img)\n",
    "    \n",
    "    return data"
   ]
  },
  {
   "cell_type": "code",
   "execution_count": 310,
   "metadata": {},
   "outputs": [],
   "source": [
    "import os\n",
    "import uuid\n",
    "img_path = os.path.join(ANC_PATH, '0746e075-6b84-11ee-b5ac-b06088d48e19.jpg')\n",
    "img = cv2.imread(img_path)\n",
    "augmented_images = data_aug(img)\n",
    "\n",
    "for image in augmented_images:\n",
    "    cv2.imwrite(os.path.join(ANC_PATH, '{}.jpg'.format(uuid.uuid1())), image.numpy())\n",
    "for file_name in os.listdir(os.path.join(POS_PATH)):\n",
    "    img_path = os.path.join(POS_PATH, file_name)\n",
    "    img = cv2.imread(img_path)\n",
    "    augmented_images = data_aug(img) \n",
    "    \n",
    "    for image in augmented_images:\n",
    "        cv2.imwrite(os.path.join(POS_PATH, '{}.jpg'.format(uuid.uuid1())), image.numpy())"
   ]
  },
  {
   "cell_type": "markdown",
   "metadata": {
    "id": "X9Wh7iadLRrk"
   },
   "source": [
    "## Preprocessing of Images\n"
   ]
  },
  {
   "cell_type": "markdown",
   "metadata": {},
   "source": [
    "Get Image Directories"
   ]
  },
  {
   "cell_type": "code",
   "execution_count": 311,
   "metadata": {},
   "outputs": [],
   "source": [
    "anchor = tf.data.Dataset.list_files(ANC_PATH+'\\*.jpg').take(30)\n",
    "positive = tf.data.Dataset.list_files(POS_PATH+'\\*.jpg').take(30)\n",
    "negative = tf.data.Dataset.list_files(NEG_PATH+'\\*.jpg').take(30)"
   ]
  },
  {
   "cell_type": "code",
   "execution_count": 312,
   "metadata": {},
   "outputs": [
    {
     "name": "stdout",
     "output_type": "stream",
     "text": [
      "b'data\\\\anchor\\\\fb972222-6b83-11ee-8acd-b06088d48e19.jpg'\n"
     ]
    }
   ],
   "source": [
    "dir_test = anchor.as_numpy_iterator()\n",
    "print(dir_test.next())"
   ]
  },
  {
   "cell_type": "markdown",
   "metadata": {},
   "source": [
    "#### Scale and Resize"
   ]
  },
  {
   "cell_type": "code",
   "execution_count": 313,
   "metadata": {},
   "outputs": [],
   "source": [
    "def preprocess(file_path):\n",
    "    \n",
    "    # Read in image from file path\n",
    "    byte_img = tf.io.read_file(file_path)\n",
    "    # Load in the image \n",
    "    img = tf.io.decode_jpeg(byte_img)\n",
    "    \n",
    "    # Preprocessing steps - resizing the image to be 100x100x3\n",
    "    img = tf.image.resize(img, (100,100))\n",
    "    # Scale image to be between 0 and 1 \n",
    "    img = img / 255.0\n",
    "    \n",
    "    # Return image\n",
    "    return img"
   ]
  },
  {
   "cell_type": "code",
   "execution_count": 315,
   "metadata": {},
   "outputs": [
    {
     "data": {
      "text/plain": [
       "0.75441176"
      ]
     },
     "execution_count": 315,
     "metadata": {},
     "output_type": "execute_result"
    }
   ],
   "source": [
    "img = preprocess('data\\\\anchor\\\\0746e075-6b84-11ee-b5ac-b06088d48e19.jpg')\n",
    "\n",
    "img.numpy().max() "
   ]
  },
  {
   "cell_type": "code",
   "execution_count": 316,
   "metadata": {},
   "outputs": [
    {
     "data": {
      "text/plain": [
       "<matplotlib.image.AxesImage at 0x1994a22ea50>"
      ]
     },
     "execution_count": 316,
     "metadata": {},
     "output_type": "execute_result"
    },
    {
     "data": {
      "image/png": "[encoded data removed]",
      "text/plain": [
       "<Figure size 640x480 with 1 Axes>"
      ]
     },
     "metadata": {},
     "output_type": "display_data"
    }
   ],
   "source": [
    "plt.imshow(img)"
   ]
  },
  {
   "cell_type": "markdown",
   "metadata": {},
   "source": [
    "## Create Labelled Dataset"
   ]
  },
  {
   "cell_type": "code",
   "execution_count": 317,
   "metadata": {},
   "outputs": [],
   "source": [
    "# (anchor, positive) => 1,1,1,1,1\n",
    "# (anchor, negative) => 0,0,0,0,0\n",
    "\n",
    "positives = tf.data.Dataset.zip((anchor, positive, tf.data.Dataset.from_tensor_slices(tf.ones(len(anchor)))))\n",
    "negatives = tf.data.Dataset.zip((anchor, negative, tf.data.Dataset.from_tensor_slices(tf.zeros(len(anchor)))))\n",
    "data = positives.concatenate(negatives)"
   ]
  },
  {
   "cell_type": "code",
   "execution_count": 318,
   "metadata": {},
   "outputs": [
    {
     "data": {
      "text/plain": [
       "(b'data\\\\anchor\\\\e219dcd2-6b83-11ee-bbaf-b06088d48e19.jpg',\n",
       " b'data\\\\positive\\\\f7656b22-6b83-11ee-8736-b06088d48e19.jpg',\n",
       " 1.0)"
      ]
     },
     "execution_count": 318,
     "metadata": {},
     "output_type": "execute_result"
    }
   ],
   "source": [
    "samples = data.as_numpy_iterator()\n",
    "exampple = samples.next()\n",
    "exampple"
   ]
  },
  {
   "cell_type": "markdown",
   "metadata": {},
   "source": [
    "## Train - Test Split"
   ]
  },
  {
   "cell_type": "code",
   "execution_count": 319,
   "metadata": {},
   "outputs": [],
   "source": [
    "def preprocess_twin(input_img, validation_img, label):\n",
    "    return(preprocess(input_img), preprocess(validation_img), label)"
   ]
  },
  {
   "cell_type": "code",
   "execution_count": 320,
   "metadata": {},
   "outputs": [],
   "source": [
    "res = preprocess_twin(*exampple)"
   ]
  },
  {
   "cell_type": "code",
   "execution_count": 321,
   "metadata": {
    "scrolled": true
   },
   "outputs": [
    {
     "data": {
      "text/plain": [
       "<matplotlib.image.AxesImage at 0x1994a216a50>"
      ]
     },
     "execution_count": 321,
     "metadata": {},
     "output_type": "execute_result"
    },
    {
     "data": {
      "image/png": "[encoded data removed]",
      "text/plain": [
       "<Figure size 640x480 with 1 Axes>"
      ]
     },
     "metadata": {},
     "output_type": "display_data"
    }
   ],
   "source": [
    "plt.imshow(res[1])"
   ]
  },
  {
   "cell_type": "markdown",
   "metadata": {},
   "source": [
    "## Pipeline"
   ]
  },
  {
   "cell_type": "code",
   "execution_count": 322,
   "metadata": {},
   "outputs": [],
   "source": [
    "# Build dataloader pipeline\n",
    "data = data.map(preprocess_twin)\n",
    "data = data.cache()\n",
    "data = data.shuffle(buffer_size=1024)\n",
    "# Training partition\n",
    "train_data = data.take(round(len(data)*.7))\n",
    "train_data = train_data.batch(16)\n",
    "train_data = train_data.prefetch(8)\n",
    "# Testing partition\n",
    "test_data = data.skip(round(len(data)*.7))\n",
    "test_data = test_data.take(round(len(data)*.3))\n",
    "test_data = test_data.batch(16)\n",
    "test_data = test_data.prefetch(8)"
   ]
  },
  {
   "cell_type": "code",
   "execution_count": 323,
   "metadata": {},
   "outputs": [],
   "source": [
    "train_samples=train_data.as_numpy_iterator()"
   ]
  },
  {
   "cell_type": "code",
   "execution_count": 324,
   "metadata": {},
   "outputs": [
    {
     "data": {
      "text/plain": [
       "16"
      ]
     },
     "execution_count": 324,
     "metadata": {},
     "output_type": "execute_result"
    }
   ],
   "source": [
    "train_sample=train_samples.next()\n",
    "len(train_sample[0])"
   ]
  },
  {
   "cell_type": "markdown",
   "metadata": {},
   "source": [
    "# Model Engineering"
   ]
  },
  {
   "cell_type": "markdown",
   "metadata": {},
   "source": [
    "### Build Embedding Layer:"
   ]
  },
  {
   "cell_type": "code",
   "execution_count": 325,
   "metadata": {},
   "outputs": [],
   "source": [
    "#model=(Conv+ ReLU+ MaxPooling)*3+ Conv+ Fully Connected+sigmoid\n",
    "\n",
    "def make_embedding(): \n",
    "    inp = Input(shape=(100,100,3), name='input_image') #100,100,3\n",
    "    \n",
    "    # First block\n",
    "    c1 = Conv2D(64, (10,10), activation='relu')(inp) #91,91,64\n",
    "    m1 = MaxPooling2D(64, (2,2), padding='same')(c1) #46,46,64\n",
    "    \n",
    "    # Second block\n",
    "    c2 = Conv2D(128, (7,7), activation='relu')(m1)#40,40,128\n",
    "    m2 = MaxPooling2D(64, (2,2), padding='same')(c2)#20,20,128\n",
    "    \n",
    "    # Third block \n",
    "    c3 = Conv2D(128, (4,4), activation='relu')(m2)#17,17,128\n",
    "    m3 = MaxPooling2D(64, (2,2), padding='same')(c3)#9,9,128\n",
    "    \n",
    "    # Final embedding block\n",
    "    c4 = Conv2D(256, (4,4), activation='relu')(m3)#6,6,256\n",
    "    f1 = Flatten()(c4)#9216\n",
    "    d1 = Dense(4096, activation='sigmoid')(f1)#4096\n",
    "    \n",
    "    \n",
    "    return Model(inputs=[inp], outputs=[d1], name='embedding')"
   ]
  },
  {
   "cell_type": "code",
   "execution_count": 326,
   "metadata": {},
   "outputs": [],
   "source": [
    "embedding = make_embedding()\n"
   ]
  },
  {
   "cell_type": "code",
   "execution_count": 327,
   "metadata": {},
   "outputs": [
    {
     "name": "stdout",
     "output_type": "stream",
     "text": [
      "Model: \"embedding\"\n",
      "_________________________________________________________________\n",
      " Layer (type)                Output Shape              Param #   \n",
      "=================================================================\n",
      " input_image (InputLayer)    [(None, 100, 100, 3)]     0         \n",
      "                                                                 \n",
      " conv2d_50 (Conv2D)          (None, 91, 91, 64)        19264     \n",
      "                                                                 \n",
      " max_pooling2d_42 (MaxPooli  (None, 46, 46, 64)        0         \n",
      " ng2D)                                                           \n",
      "                                                                 \n",
      " conv2d_51 (Conv2D)          (None, 40, 40, 128)       401536    \n",
      "                                                                 \n",
      " max_pooling2d_43 (MaxPooli  (None, 20, 20, 128)       0         \n",
      " ng2D)                                                           \n",
      "                                                                 \n",
      " conv2d_52 (Conv2D)          (None, 17, 17, 128)       262272    \n",
      "                                                                 \n",
      " max_pooling2d_44 (MaxPooli  (None, 9, 9, 128)         0         \n",
      " ng2D)                                                           \n",
      "                                                                 \n",
      " conv2d_53 (Conv2D)          (None, 6, 6, 256)         524544    \n",
      "                                                                 \n",
      " flatten_8 (Flatten)         (None, 9216)              0         \n",
      "                                                                 \n",
      " dense_13 (Dense)            (None, 4096)              37752832  \n",
      "                                                                 \n",
      "=================================================================\n",
      "Total params: 38960448 (148.62 MB)\n",
      "Trainable params: 38960448 (148.62 MB)\n",
      "Non-trainable params: 0 (0.00 Byte)\n",
      "_________________________________________________________________\n"
     ]
    }
   ],
   "source": [
    "embedding.summary()"
   ]
  },
  {
   "cell_type": "markdown",
   "metadata": {},
   "source": [
    "### Build Distance Layer\n",
    "How similar our images are:"
   ]
  },
  {
   "cell_type": "code",
   "execution_count": 328,
   "metadata": {},
   "outputs": [],
   "source": [
    "# Siamese L1 Distance class\n",
    "class L1Dist(Layer):\n",
    "    \n",
    "    # Init method - inheritance\n",
    "    def __init__(self, **kwargs):\n",
    "        super().__init__()\n",
    "       \n",
    "    # Magic happens here - similarity calculation\n",
    "    def call(self, input_embedding, validation_embedding):\n",
    "        return tf.math.abs(input_embedding - validation_embedding)"
   ]
  },
  {
   "cell_type": "code",
   "execution_count": 329,
   "metadata": {},
   "outputs": [],
   "source": [
    "l1 = L1Dist()"
   ]
  },
  {
   "cell_type": "markdown",
   "metadata": {},
   "source": [
    "## Siamese Model"
   ]
  },
  {
   "cell_type": "code",
   "execution_count": 330,
   "metadata": {},
   "outputs": [],
   "source": [
    "def make_siamese_model(): \n",
    "    \n",
    "    # Anchor image input in the network\n",
    "    input_image = Input(name='input_img', shape=(100,100,3))\n",
    "    \n",
    "    # Validation image in the network \n",
    "    validation_image = Input(name='validation_img', shape=(100,100,3))\n",
    "    \n",
    "    # Combine siamese distance components\n",
    "    siamese_layer = L1Dist()\n",
    "    siamese_layer._name = 'distance'\n",
    "    distances = siamese_layer(embedding(input_image), embedding(validation_image))\n",
    "    \n",
    "    # Classification layer \n",
    "    classifier = Dense(1, activation='sigmoid')(distances)#output of shape 1\n",
    "    \n",
    "    return Model(inputs=[input_image, validation_image], outputs=classifier, name='SiameseNetwork')"
   ]
  },
  {
   "cell_type": "code",
   "execution_count": 331,
   "metadata": {},
   "outputs": [
    {
     "name": "stdout",
     "output_type": "stream",
     "text": [
      "Model: \"SiameseNetwork\"\n",
      "__________________________________________________________________________________________________\n",
      " Layer (type)                Output Shape                 Param #   Connected to                  \n",
      "==================================================================================================\n",
      " input_img (InputLayer)      [(None, 100, 100, 3)]        0         []                            \n",
      "                                                                                                  \n",
      " validation_img (InputLayer  [(None, 100, 100, 3)]        0         []                            \n",
      " )                                                                                                \n",
      "                                                                                                  \n",
      " embedding (Functional)      (None, 4096)                 3896044   ['input_img[0][0]',           \n",
      "                                                          8          'validation_img[0][0]']      \n",
      "                                                                                                  \n",
      " distance (L1Dist)           (None, 4096)                 0         ['embedding[0][0]',           \n",
      "                                                                     'embedding[1][0]']           \n",
      "                                                                                                  \n",
      " dense_14 (Dense)            (None, 1)                    4097      ['distance[0][0]']            \n",
      "                                                                                                  \n",
      "==================================================================================================\n",
      "Total params: 38964545 (148.64 MB)\n",
      "Trainable params: 38964545 (148.64 MB)\n",
      "Non-trainable params: 0 (0.00 Byte)\n",
      "__________________________________________________________________________________________________\n"
     ]
    }
   ],
   "source": [
    "siamese_model = make_siamese_model()\n",
    "siamese_model.summary()"
   ]
  },
  {
   "cell_type": "markdown",
   "metadata": {},
   "source": [
    "## Training"
   ]
  },
  {
   "cell_type": "code",
   "execution_count": 332,
   "metadata": {},
   "outputs": [],
   "source": [
    "binary_cross_loss = tf.losses.BinaryCrossentropy()\n",
    "opt = tf.keras.optimizers.Adam(1e-4) # 0.0001"
   ]
  },
  {
   "cell_type": "markdown",
   "metadata": {},
   "source": [
    "Establish Checkpoints"
   ]
  },
  {
   "cell_type": "code",
   "execution_count": 333,
   "metadata": {},
   "outputs": [],
   "source": [
    "checkpoint_dir = './training_checkpoints'\n",
    "checkpoint_prefix = os.path.join(checkpoint_dir, 'ckpt')\n",
    "checkpoint = tf.train.Checkpoint(opt=opt, siamese_model=siamese_model)"
   ]
  },
  {
   "cell_type": "markdown",
   "metadata": {},
   "source": [
    "Build Train Step Function"
   ]
  },
  {
   "cell_type": "code",
   "execution_count": 334,
   "metadata": {},
   "outputs": [
    {
     "data": {
      "text/plain": [
       "array([1., 0., 0., 1., 1., 0., 0., 1., 0., 0., 1., 1., 0., 0., 1., 1.],\n",
       "      dtype=float32)"
      ]
     },
     "execution_count": 334,
     "metadata": {},
     "output_type": "execute_result"
    }
   ],
   "source": [
    "test_batch = train_data.as_numpy_iterator()\n",
    "batch_1 = test_batch.next()\n",
    "X = batch_1[:2]\n",
    "y = batch_1[2]\n",
    "y"
   ]
  },
  {
   "cell_type": "code",
   "execution_count": 61,
   "metadata": {},
   "outputs": [],
   "source": [
    "tf.losses.BinaryCrossentropy??"
   ]
  },
  {
   "cell_type": "code",
   "execution_count": 335,
   "metadata": {},
   "outputs": [],
   "source": [
    "@tf.function\n",
    "def train_step(batch):\n",
    "    \n",
    "    # Record all of our operations \n",
    "    with tf.GradientTape() as tape:     \n",
    "        # Get anchor and positive/negative image\n",
    "        X = batch[:2]\n",
    "        # Get label\n",
    "        y = batch[2]\n",
    "        \n",
    "        # Forward pass\n",
    "        yhat = siamese_model(X, training=True)\n",
    "        # Calculate loss\n",
    "        loss = binary_cross_loss(y, yhat)\n",
    "    print(loss)\n",
    "        \n",
    "    # Calculate gradients\n",
    "    grad = tape.gradient(loss, siamese_model.trainable_variables)\n",
    "    \n",
    "    # Calculate updated weights and apply to siamese model\n",
    "    opt.apply_gradients(zip(grad, siamese_model.trainable_variables))\n",
    "    \n",
    "    # Return loss\n",
    "    return loss"
   ]
  },
  {
   "cell_type": "markdown",
   "metadata": {},
   "source": [
    "Build Training Loop"
   ]
  },
  {
   "cell_type": "code",
   "execution_count": 336,
   "metadata": {},
   "outputs": [],
   "source": [
    "def train(data, EPOCHS):\n",
    "    # Loop through epochs\n",
    "    for epoch in range(1, EPOCHS+1):\n",
    "        print('\\n Epoch {}/{}'.format(epoch, EPOCHS))\n",
    "        progbar = tf.keras.utils.Progbar(len(data))\n",
    "        \n",
    "        # Loop through each batch\n",
    "        for idx, batch in enumerate(data):\n",
    "            # Run train step here\n",
    "            train_step(batch)\n",
    "            progbar.update(idx+1)\n",
    "        \n",
    "        # Save checkpoints\n",
    "        if epoch % 10 == 0: \n",
    "            checkpoint.save(file_prefix=checkpoint_prefix)"
   ]
  },
  {
   "cell_type": "markdown",
   "metadata": {},
   "source": [
    "### Train the model"
   ]
  },
  {
   "cell_type": "code",
   "execution_count": 337,
   "metadata": {},
   "outputs": [
    {
     "name": "stdout",
     "output_type": "stream",
     "text": [
      "\n",
      " Epoch 1/50\n",
      "Tensor(\"binary_crossentropy/weighted_loss/value:0\", shape=(), dtype=float32)\n",
      "Tensor(\"binary_crossentropy/weighted_loss/value:0\", shape=(), dtype=float32)\n",
      "2/3 [===================>..........] - ETA: 14sTensor(\"binary_crossentropy/weighted_loss/value:0\", shape=(), dtype=float32)\n",
      "3/3 [==============================] - 42s 13s/step\n",
      "\n",
      " Epoch 2/50\n",
      "3/3 [==============================] - 39s 12s/step\n",
      "\n",
      " Epoch 3/50\n",
      "3/3 [==============================] - 40s 13s/step\n",
      "\n",
      " Epoch 4/50\n",
      "3/3 [==============================] - 41s 13s/step\n",
      "\n",
      " Epoch 5/50\n",
      "3/3 [==============================] - 41s 12s/step\n",
      "\n",
      " Epoch 6/50\n",
      "3/3 [==============================] - 39s 12s/step\n",
      "\n",
      " Epoch 7/50\n",
      "3/3 [==============================] - 38s 12s/step\n",
      "\n",
      " Epoch 8/50\n",
      "3/3 [==============================] - 38s 12s/step\n",
      "\n",
      " Epoch 9/50\n",
      "3/3 [==============================] - 38s 12s/step\n",
      "\n",
      " Epoch 10/50\n",
      "3/3 [==============================] - 38s 12s/step\n",
      "\n",
      " Epoch 11/50\n",
      "3/3 [==============================] - 38s 12s/step\n",
      "\n",
      " Epoch 12/50\n",
      "3/3 [==============================] - 39s 12s/step\n",
      "\n",
      " Epoch 13/50\n",
      "3/3 [==============================] - 41s 13s/step\n",
      "\n",
      " Epoch 14/50\n",
      "3/3 [==============================] - 42s 13s/step\n",
      "\n",
      " Epoch 15/50\n",
      "3/3 [==============================] - 40s 12s/step\n",
      "\n",
      " Epoch 16/50\n",
      "3/3 [==============================] - 39s 12s/step\n",
      "\n",
      " Epoch 17/50\n",
      "3/3 [==============================] - 38s 12s/step\n",
      "\n",
      " Epoch 18/50\n",
      "3/3 [==============================] - 38s 12s/step\n",
      "\n",
      " Epoch 19/50\n",
      "3/3 [==============================] - 38s 12s/step\n",
      "\n",
      " Epoch 20/50\n",
      "3/3 [==============================] - 40s 12s/step\n",
      "\n",
      " Epoch 21/50\n",
      "3/3 [==============================] - 39s 12s/step\n",
      "\n",
      " Epoch 22/50\n",
      "3/3 [==============================] - 38s 12s/step\n",
      "\n",
      " Epoch 23/50\n",
      "3/3 [==============================] - 38s 12s/step\n",
      "\n",
      " Epoch 24/50\n",
      "3/3 [==============================] - 39s 12s/step\n",
      "\n",
      " Epoch 25/50\n",
      "3/3 [==============================] - 39s 12s/step\n",
      "\n",
      " Epoch 26/50\n",
      "3/3 [==============================] - 39s 12s/step\n",
      "\n",
      " Epoch 27/50\n",
      "3/3 [==============================] - 38s 12s/step\n",
      "\n",
      " Epoch 28/50\n",
      "3/3 [==============================] - 38s 12s/step\n",
      "\n",
      " Epoch 29/50\n",
      "3/3 [==============================] - 38s 12s/step\n",
      "\n",
      " Epoch 30/50\n",
      "3/3 [==============================] - 39s 12s/step\n",
      "\n",
      " Epoch 31/50\n",
      "3/3 [==============================] - 39s 12s/step\n",
      "\n",
      " Epoch 32/50\n",
      "3/3 [==============================] - 38s 12s/step\n",
      "\n",
      " Epoch 33/50\n",
      "3/3 [==============================] - 38s 12s/step\n",
      "\n",
      " Epoch 34/50\n",
      "3/3 [==============================] - 38s 12s/step\n",
      "\n",
      " Epoch 35/50\n",
      "3/3 [==============================] - 38s 12s/step\n",
      "\n",
      " Epoch 36/50\n",
      "3/3 [==============================] - 39s 12s/step\n",
      "\n",
      " Epoch 37/50\n",
      "3/3 [==============================] - 39s 12s/step\n",
      "\n",
      " Epoch 38/50\n",
      "3/3 [==============================] - 39s 12s/step\n",
      "\n",
      " Epoch 39/50\n",
      "3/3 [==============================] - 39s 12s/step\n",
      "\n",
      " Epoch 40/50\n",
      "3/3 [==============================] - 39s 12s/step\n",
      "\n",
      " Epoch 41/50\n",
      "3/3 [==============================] - 38s 12s/step\n",
      "\n",
      " Epoch 42/50\n",
      "3/3 [==============================] - 37s 11s/step\n",
      "\n",
      " Epoch 43/50\n",
      "3/3 [==============================] - 38s 12s/step\n",
      "\n",
      " Epoch 44/50\n",
      "3/3 [==============================] - 38s 12s/step\n",
      "\n",
      " Epoch 45/50\n",
      "3/3 [==============================] - 38s 11s/step\n",
      "\n",
      " Epoch 46/50\n",
      "3/3 [==============================] - 37s 12s/step\n",
      "\n",
      " Epoch 47/50\n",
      "3/3 [==============================] - 39s 12s/step\n",
      "\n",
      " Epoch 48/50\n",
      "3/3 [==============================] - 38s 12s/step\n",
      "\n",
      " Epoch 49/50\n",
      "3/3 [==============================] - 38s 12s/step\n",
      "\n",
      " Epoch 50/50\n",
      "3/3 [==============================] - 37s 11s/step\n"
     ]
    }
   ],
   "source": [
    "EPOCHS = 50\n",
    "train(train_data, EPOCHS)"
   ]
  },
  {
   "cell_type": "markdown",
   "metadata": {},
   "source": [
    "## Evaluate the Model"
   ]
  },
  {
   "cell_type": "code",
   "execution_count": 338,
   "metadata": {},
   "outputs": [],
   "source": [
    "# Import metric calculations\n",
    "from tensorflow.keras.metrics import Precision, Recall"
   ]
  },
  {
   "cell_type": "code",
   "execution_count": 339,
   "metadata": {},
   "outputs": [
    {
     "name": "stdout",
     "output_type": "stream",
     "text": [
      "1/1 [==============================] - 2s 2s/step\n"
     ]
    },
    {
     "data": {
      "text/plain": [
       "array([[9.9953711e-01],\n",
       "       [9.7039687e-05],\n",
       "       [9.9599797e-01],\n",
       "       [8.5880680e-07],\n",
       "       [3.8637070e-04],\n",
       "       [3.1468321e-06],\n",
       "       [9.9990404e-01],\n",
       "       [1.7496617e-05],\n",
       "       [1.0000000e+00],\n",
       "       [2.5167008e-05],\n",
       "       [1.8852511e-04],\n",
       "       [9.1738446e-05],\n",
       "       [9.9999982e-01],\n",
       "       [1.0000000e+00],\n",
       "       [6.0829063e-07],\n",
       "       [9.9999905e-01]], dtype=float32)"
      ]
     },
     "execution_count": 339,
     "metadata": {},
     "output_type": "execute_result"
    }
   ],
   "source": [
    "# Get a batch of test data\n",
    "test_input, test_val, y_true = test_data.as_numpy_iterator().next()\n",
    "# Make predictions\n",
    "y_hat = siamese_model.predict([test_input, test_val])\n",
    "y_hat"
   ]
  },
  {
   "cell_type": "code",
   "execution_count": 340,
   "metadata": {},
   "outputs": [
    {
     "data": {
      "text/plain": [
       "[1, 0, 1, 0, 0, 0, 1, 0, 1, 0, 0, 0, 1, 1, 0, 1]"
      ]
     },
     "execution_count": 340,
     "metadata": {},
     "output_type": "execute_result"
    }
   ],
   "source": [
    "# Post processing the results \n",
    "[1 if prediction > 0.5 else 0 for prediction in y_hat ]"
   ]
  },
  {
   "cell_type": "code",
   "execution_count": 341,
   "metadata": {},
   "outputs": [
    {
     "data": {
      "text/plain": [
       "array([1., 0., 1., 0., 0., 0., 1., 0., 1., 0., 0., 0., 1., 1., 0., 1.],\n",
       "      dtype=float32)"
      ]
     },
     "execution_count": 341,
     "metadata": {},
     "output_type": "execute_result"
    }
   ],
   "source": [
    "y_true"
   ]
  },
  {
   "cell_type": "markdown",
   "metadata": {},
   "source": [
    "Calculate Metrics"
   ]
  },
  {
   "cell_type": "code",
   "execution_count": 342,
   "metadata": {},
   "outputs": [
    {
     "data": {
      "text/plain": [
       "1.0"
      ]
     },
     "execution_count": 342,
     "metadata": {},
     "output_type": "execute_result"
    }
   ],
   "source": [
    "# Creating a metric object \n",
    "m = Recall()\n",
    "\n",
    "# Calculating the recall value \n",
    "m.update_state(y_true, y_hat)\n",
    "\n",
    "# Return Recall Result\n",
    "m.result().numpy()"
   ]
  },
  {
   "cell_type": "code",
   "execution_count": 343,
   "metadata": {},
   "outputs": [
    {
     "data": {
      "text/plain": [
       "1.0"
      ]
     },
     "execution_count": 343,
     "metadata": {},
     "output_type": "execute_result"
    }
   ],
   "source": [
    "# Creating a metric object \n",
    "m = Precision()\n",
    "\n",
    "# Calculating the recall value \n",
    "m.update_state(y_true, y_hat)\n",
    "\n",
    "# Return Recall Result\n",
    "m.result().numpy()"
   ]
  },
  {
   "cell_type": "markdown",
   "metadata": {},
   "source": [
    "Results"
   ]
  },
  {
   "cell_type": "code",
   "execution_count": 344,
   "metadata": {},
   "outputs": [
    {
     "data": {
      "image/png": "[encoded data removed]",
      "text/plain": [
       "<Figure size 1000x800 with 2 Axes>"
      ]
     },
     "metadata": {},
     "output_type": "display_data"
    }
   ],
   "source": [
    "# Set plot size \n",
    "plt.figure(figsize=(10,8))\n",
    "\n",
    "# Set first subplot\n",
    "plt.subplot(1,2,1)\n",
    "plt.imshow(test_input[0])\n",
    "\n",
    "# Set second subplot\n",
    "plt.subplot(1,2,2)\n",
    "plt.imshow(test_val[0])\n",
    "\n",
    "# Renders cleanly\n",
    "plt.show()"
   ]
  },
  {
   "cell_type": "markdown",
   "metadata": {},
   "source": [
    "## Save Model"
   ]
  },
  {
   "cell_type": "code",
   "execution_count": 345,
   "metadata": {
    "scrolled": true
   },
   "outputs": [
    {
     "name": "stdout",
     "output_type": "stream",
     "text": [
      "WARNING:tensorflow:Compiled the loaded model, but the compiled metrics have yet to be built. `model.compile_metrics` will be empty until you train or evaluate the model.\n"
     ]
    },
    {
     "data": {
      "text/plain": [
       "__main__.L1Dist"
      ]
     },
     "execution_count": 345,
     "metadata": {},
     "output_type": "execute_result"
    }
   ],
   "source": [
    "# Save weights\n",
    "siamese_model.save('siamesemodel.h5')\n",
    "L1Dist"
   ]
  },
  {
   "cell_type": "code",
   "execution_count": 346,
   "metadata": {},
   "outputs": [
    {
     "name": "stdout",
     "output_type": "stream",
     "text": [
      "WARNING:tensorflow:No training configuration found in the save file, so the model was *not* compiled. Compile it manually.\n"
     ]
    }
   ],
   "source": [
    "# Reload model \n",
    "model = tf.keras.models.load_model('siamesemodel.h5', \n",
    "                                   custom_objects={'L1Dist':L1Dist, 'BinaryCrossentropy':tf.losses.BinaryCrossentropy})"
   ]
  },
  {
   "cell_type": "code",
   "execution_count": 347,
   "metadata": {},
   "outputs": [
    {
     "name": "stdout",
     "output_type": "stream",
     "text": [
      "1/1 [==============================] - 2s 2s/step\n"
     ]
    },
    {
     "data": {
      "text/plain": [
       "array([[9.9953711e-01],\n",
       "       [9.7039687e-05],\n",
       "       [9.9599797e-01],\n",
       "       [8.5880680e-07],\n",
       "       [3.8637070e-04],\n",
       "       [3.1468321e-06],\n",
       "       [9.9990404e-01],\n",
       "       [1.7496617e-05],\n",
       "       [1.0000000e+00],\n",
       "       [2.5167008e-05],\n",
       "       [1.8852511e-04],\n",
       "       [9.1738446e-05],\n",
       "       [9.9999982e-01],\n",
       "       [1.0000000e+00],\n",
       "       [6.0829063e-07],\n",
       "       [9.9999905e-01]], dtype=float32)"
      ]
     },
     "execution_count": 347,
     "metadata": {},
     "output_type": "execute_result"
    }
   ],
   "source": [
    "# Make predictions with reloaded model\n",
    "model.predict([test_input, test_val])"
   ]
  },
  {
   "cell_type": "code",
   "execution_count": 348,
   "metadata": {},
   "outputs": [
    {
     "name": "stdout",
     "output_type": "stream",
     "text": [
      "Model: \"SiameseNetwork\"\n",
      "__________________________________________________________________________________________________\n",
      " Layer (type)                Output Shape                 Param #   Connected to                  \n",
      "==================================================================================================\n",
      " input_img (InputLayer)      [(None, 100, 100, 3)]        0         []                            \n",
      "                                                                                                  \n",
      " validation_img (InputLayer  [(None, 100, 100, 3)]        0         []                            \n",
      " )                                                                                                \n",
      "                                                                                                  \n",
      " embedding (Functional)      (None, 4096)                 3896044   ['input_img[0][0]',           \n",
      "                                                          8          'validation_img[0][0]']      \n",
      "                                                                                                  \n",
      " l1_dist_20 (L1Dist)         (None, 4096)                 0         ['embedding[0][0]',           \n",
      "                                                                     'embedding[1][0]']           \n",
      "                                                                                                  \n",
      " dense_14 (Dense)            (None, 1)                    4097      ['l1_dist_20[0][0]']          \n",
      "                                                                                                  \n",
      "==================================================================================================\n",
      "Total params: 38964545 (148.64 MB)\n",
      "Trainable params: 38964545 (148.64 MB)\n",
      "Non-trainable params: 0 (0.00 Byte)\n",
      "__________________________________________________________________________________________________\n"
     ]
    }
   ],
   "source": [
    "# View model summary\n",
    "model.summary()"
   ]
  },
  {
   "cell_type": "markdown",
   "metadata": {},
   "source": [
    "# Real Timme Testing"
   ]
  },
  {
   "cell_type": "code",
   "execution_count": 349,
   "metadata": {},
   "outputs": [
    {
     "data": {
      "text/plain": [
       "['007bed8a-6b84-11ee-a9b8-b06088d48e19.jpg',\n",
       " '034b7e06-6b84-11ee-b945-b06088d48e19.jpg',\n",
       " '056a319a-6b84-11ee-8a74-b06088d48e19.jpg',\n",
       " '07ae9aae-6b84-11ee-8448-b06088d48e19.jpg',\n",
       " '13f63022-6b84-11ee-a9d0-b06088d48e19.jpg',\n",
       " '144af7cf-6b84-11ee-a1e9-b06088d48e19.jpg',\n",
       " '14fbf7a7-6b84-11ee-b3e9-b06088d48e19.jpg',\n",
       " '159f3b2c-6b84-11ee-8aa8-b06088d48e19.jpg',\n",
       " '16c29751-6b84-11ee-9865-b06088d48e19.jpg',\n",
       " '16df0252-6b84-11ee-9645-b06088d48e19.jpg',\n",
       " '172b0beb-6b84-11ee-aa2f-b06088d48e19.jpg',\n",
       " '17f1f3f1-6b84-11ee-aca8-b06088d48e19.jpg',\n",
       " '182aa01f-6b84-11ee-8a8c-b06088d48e19.jpg',\n",
       " '19fae5c0-6b84-11ee-a8a2-b06088d48e19.jpg',\n",
       " '1a98aef3-6b84-11ee-9335-b06088d48e19.jpg',\n",
       " '1c451ff6-6b84-11ee-b413-b06088d48e19.jpg',\n",
       " '1c685593-6b84-11ee-a6e2-b06088d48e19.jpg',\n",
       " '1c8bd29d-6b84-11ee-a97a-b06088d48e19.jpg',\n",
       " '1cd2912c-6b84-11ee-9929-b06088d48e19.jpg',\n",
       " '1d4d327b-6b84-11ee-802f-b06088d48e19.jpg',\n",
       " '1d5b3188-6b84-11ee-8b9d-b06088d48e19.jpg',\n",
       " '1ebce504-6b84-11ee-948e-b06088d48e19.jpg',\n",
       " '1ee79d70-6b84-11ee-8ec0-b06088d48e19.jpg',\n",
       " '1f4b20df-6b84-11ee-b577-b06088d48e19.jpg',\n",
       " '1faec718-6b84-11ee-8bd8-b06088d48e19.jpg',\n",
       " '29d8e7a2-6b84-11ee-831a-b06088d48e19.jpg',\n",
       " '2ab71fc1-6b84-11ee-9f77-b06088d48e19.jpg',\n",
       " '2c0cca55-6b84-11ee-8e81-b06088d48e19.jpg',\n",
       " '2c307c04-6b84-11ee-8b1c-b06088d48e19.jpg',\n",
       " '44d055cf-6b84-11ee-b339-b06088d48e19.jpg',\n",
       " '44d118a1-6b84-11ee-a1f9-b06088d48e19.jpg',\n",
       " '44dc5b85-6b84-11ee-823a-b06088d48e19.jpg',\n",
       " '44dca96d-6b84-11ee-957b-b06088d48e19.jpg',\n",
       " '44dcf757-6b84-11ee-a4fd-b06088d48e19.jpg',\n",
       " '44dd1e58-6b84-11ee-8b10-b06088d48e19.jpg',\n",
       " '44dd6c3d-6b84-11ee-9848-b06088d48e19.jpg',\n",
       " '44e8613e-6b84-11ee-b788-b06088d48e19.jpg',\n",
       " '44e8882d-6b84-11ee-9b05-b06088d48e19.jpg',\n",
       " '44e8d616-6b84-11ee-b25c-b06088d48e19.jpg',\n",
       " '44e92403-6b84-11ee-9510-b06088d48e19.jpg',\n",
       " '44e971f1-6b84-11ee-8c2f-b06088d48e19.jpg',\n",
       " '44e998e6-6b84-11ee-ab1b-b06088d48e19.jpg',\n",
       " '44e9e6cc-6b84-11ee-9b0e-b06088d48e19.jpg',\n",
       " '44f4408d-6b84-11ee-bd50-b06088d48e19.jpg',\n",
       " '44f48de9-6b84-11ee-8161-b06088d48e19.jpg',\n",
       " '44f502c5-6b84-11ee-b4ac-b06088d48e19.jpg',\n",
       " '44f550b0-6b84-11ee-8b3a-b06088d48e19.jpg',\n",
       " '44f58f33-6b84-11ee-a690-b06088d48e19.jpg',\n",
       " '44f6041b-6b84-11ee-8d66-b06088d48e19.jpg',\n",
       " '44f64661-6b84-11ee-943d-b06088d48e19.jpg']"
      ]
     },
     "execution_count": 349,
     "metadata": {},
     "output_type": "execute_result"
    }
   ],
   "source": [
    "os.listdir(os.path.join('application_data', 'verification_images'))"
   ]
  },
  {
   "cell_type": "code",
   "execution_count": 350,
   "metadata": {},
   "outputs": [
    {
     "data": {
      "text/plain": [
       "'application_data\\\\input_image\\\\input_image.jpg'"
      ]
     },
     "execution_count": 350,
     "metadata": {},
     "output_type": "execute_result"
    }
   ],
   "source": [
    "os.path.join('application_data', 'input_image', 'input_image.jpg')"
   ]
  },
  {
   "cell_type": "code",
   "execution_count": 351,
   "metadata": {},
   "outputs": [
    {
     "name": "stdout",
     "output_type": "stream",
     "text": [
      "application_data\\verification_images\\007bed8a-6b84-11ee-a9b8-b06088d48e19.jpg\n",
      "application_data\\verification_images\\034b7e06-6b84-11ee-b945-b06088d48e19.jpg\n",
      "application_data\\verification_images\\056a319a-6b84-11ee-8a74-b06088d48e19.jpg\n",
      "application_data\\verification_images\\07ae9aae-6b84-11ee-8448-b06088d48e19.jpg\n",
      "application_data\\verification_images\\13f63022-6b84-11ee-a9d0-b06088d48e19.jpg\n",
      "application_data\\verification_images\\144af7cf-6b84-11ee-a1e9-b06088d48e19.jpg\n",
      "application_data\\verification_images\\14fbf7a7-6b84-11ee-b3e9-b06088d48e19.jpg\n",
      "application_data\\verification_images\\159f3b2c-6b84-11ee-8aa8-b06088d48e19.jpg\n",
      "application_data\\verification_images\\16c29751-6b84-11ee-9865-b06088d48e19.jpg\n",
      "application_data\\verification_images\\16df0252-6b84-11ee-9645-b06088d48e19.jpg\n",
      "application_data\\verification_images\\172b0beb-6b84-11ee-aa2f-b06088d48e19.jpg\n",
      "application_data\\verification_images\\17f1f3f1-6b84-11ee-aca8-b06088d48e19.jpg\n",
      "application_data\\verification_images\\182aa01f-6b84-11ee-8a8c-b06088d48e19.jpg\n",
      "application_data\\verification_images\\19fae5c0-6b84-11ee-a8a2-b06088d48e19.jpg\n",
      "application_data\\verification_images\\1a98aef3-6b84-11ee-9335-b06088d48e19.jpg\n",
      "application_data\\verification_images\\1c451ff6-6b84-11ee-b413-b06088d48e19.jpg\n",
      "application_data\\verification_images\\1c685593-6b84-11ee-a6e2-b06088d48e19.jpg\n",
      "application_data\\verification_images\\1c8bd29d-6b84-11ee-a97a-b06088d48e19.jpg\n",
      "application_data\\verification_images\\1cd2912c-6b84-11ee-9929-b06088d48e19.jpg\n",
      "application_data\\verification_images\\1d4d327b-6b84-11ee-802f-b06088d48e19.jpg\n",
      "application_data\\verification_images\\1d5b3188-6b84-11ee-8b9d-b06088d48e19.jpg\n",
      "application_data\\verification_images\\1ebce504-6b84-11ee-948e-b06088d48e19.jpg\n",
      "application_data\\verification_images\\1ee79d70-6b84-11ee-8ec0-b06088d48e19.jpg\n",
      "application_data\\verification_images\\1f4b20df-6b84-11ee-b577-b06088d48e19.jpg\n",
      "application_data\\verification_images\\1faec718-6b84-11ee-8bd8-b06088d48e19.jpg\n",
      "application_data\\verification_images\\29d8e7a2-6b84-11ee-831a-b06088d48e19.jpg\n",
      "application_data\\verification_images\\2ab71fc1-6b84-11ee-9f77-b06088d48e19.jpg\n",
      "application_data\\verification_images\\2c0cca55-6b84-11ee-8e81-b06088d48e19.jpg\n",
      "application_data\\verification_images\\2c307c04-6b84-11ee-8b1c-b06088d48e19.jpg\n",
      "application_data\\verification_images\\44d055cf-6b84-11ee-b339-b06088d48e19.jpg\n",
      "application_data\\verification_images\\44d118a1-6b84-11ee-a1f9-b06088d48e19.jpg\n",
      "application_data\\verification_images\\44dc5b85-6b84-11ee-823a-b06088d48e19.jpg\n",
      "application_data\\verification_images\\44dca96d-6b84-11ee-957b-b06088d48e19.jpg\n",
      "application_data\\verification_images\\44dcf757-6b84-11ee-a4fd-b06088d48e19.jpg\n",
      "application_data\\verification_images\\44dd1e58-6b84-11ee-8b10-b06088d48e19.jpg\n",
      "application_data\\verification_images\\44dd6c3d-6b84-11ee-9848-b06088d48e19.jpg\n",
      "application_data\\verification_images\\44e8613e-6b84-11ee-b788-b06088d48e19.jpg\n",
      "application_data\\verification_images\\44e8882d-6b84-11ee-9b05-b06088d48e19.jpg\n",
      "application_data\\verification_images\\44e8d616-6b84-11ee-b25c-b06088d48e19.jpg\n",
      "application_data\\verification_images\\44e92403-6b84-11ee-9510-b06088d48e19.jpg\n",
      "application_data\\verification_images\\44e971f1-6b84-11ee-8c2f-b06088d48e19.jpg\n",
      "application_data\\verification_images\\44e998e6-6b84-11ee-ab1b-b06088d48e19.jpg\n",
      "application_data\\verification_images\\44e9e6cc-6b84-11ee-9b0e-b06088d48e19.jpg\n",
      "application_data\\verification_images\\44f4408d-6b84-11ee-bd50-b06088d48e19.jpg\n",
      "application_data\\verification_images\\44f48de9-6b84-11ee-8161-b06088d48e19.jpg\n",
      "application_data\\verification_images\\44f502c5-6b84-11ee-b4ac-b06088d48e19.jpg\n",
      "application_data\\verification_images\\44f550b0-6b84-11ee-8b3a-b06088d48e19.jpg\n",
      "application_data\\verification_images\\44f58f33-6b84-11ee-a690-b06088d48e19.jpg\n",
      "application_data\\verification_images\\44f6041b-6b84-11ee-8d66-b06088d48e19.jpg\n",
      "application_data\\verification_images\\44f64661-6b84-11ee-943d-b06088d48e19.jpg\n"
     ]
    }
   ],
   "source": [
    "for image in os.listdir(os.path.join('application_data', 'verification_images')):\n",
    "    validation_img = os.path.join('application_data', 'verification_images', image)\n",
    "    print(validation_img)"
   ]
  },
  {
   "cell_type": "code",
   "execution_count": 352,
   "metadata": {},
   "outputs": [],
   "source": [
    "def verify(model, detection_threshold, verification_threshold):\n",
    "    # Build results array\n",
    "    results = []\n",
    "    for image in os.listdir(os.path.join('application_data', 'verification_images')):\n",
    "        input_img = preprocess(os.path.join('application_data', 'input_image', 'input_image.jpg'))\n",
    "        validation_img = preprocess(os.path.join('application_data', 'verification_images', image))\n",
    "        \n",
    "        # Make Predictions \n",
    "        result = model.predict(list(np.expand_dims([input_img, validation_img], axis=1)))\n",
    "        results.append(result)\n",
    "    \n",
    "    # Detection Threshold: Metric above which a prediciton is considered positive \n",
    "    detection = np.sum(np.array(results) > detection_threshold)\n",
    "    \n",
    "    # Verification Threshold: Proportion of positive predictions / total positive samples \n",
    "    verification = detection / len(os.listdir(os.path.join('application_data', 'verification_images'))) \n",
    "    verified = verification > verification_threshold\n",
    "    \n",
    "    return results, verified"
   ]
  },
  {
   "cell_type": "markdown",
   "metadata": {},
   "source": [
    "## OpenCV Real Time Verification"
   ]
  },
  {
   "cell_type": "code",
   "execution_count": 353,
   "metadata": {},
   "outputs": [
    {
     "name": "stdout",
     "output_type": "stream",
     "text": [
      "1/1 [==============================] - 1s 576ms/step\n",
      "1/1 [==============================] - 0s 445ms/step\n",
      "1/1 [==============================] - 0s 233ms/step\n",
      "1/1 [==============================] - 0s 369ms/step\n",
      "1/1 [==============================] - 0s 265ms/step\n",
      "1/1 [==============================] - 0s 330ms/step\n",
      "1/1 [==============================] - 0s 214ms/step\n",
      "1/1 [==============================] - 0s 158ms/step\n",
      "1/1 [==============================] - 0s 226ms/step\n",
      "1/1 [==============================] - 0s 285ms/step\n",
      "1/1 [==============================] - 0s 297ms/step\n",
      "1/1 [==============================] - 0s 228ms/step\n",
      "1/1 [==============================] - 0s 201ms/step\n",
      "1/1 [==============================] - 0s 307ms/step\n",
      "1/1 [==============================] - 0s 188ms/step\n",
      "1/1 [==============================] - 0s 178ms/step\n",
      "1/1 [==============================] - 0s 171ms/step\n",
      "1/1 [==============================] - 0s 216ms/step\n",
      "1/1 [==============================] - 0s 186ms/step\n",
      "1/1 [==============================] - 0s 275ms/step\n",
      "1/1 [==============================] - 0s 197ms/step\n",
      "1/1 [==============================] - 0s 175ms/step\n",
      "1/1 [==============================] - 0s 185ms/step\n",
      "1/1 [==============================] - 0s 191ms/step\n",
      "1/1 [==============================] - 0s 170ms/step\n",
      "1/1 [==============================] - 0s 253ms/step\n",
      "1/1 [==============================] - 0s 157ms/step\n",
      "1/1 [==============================] - 0s 178ms/step\n",
      "1/1 [==============================] - 0s 162ms/step\n",
      "1/1 [==============================] - 0s 172ms/step\n",
      "1/1 [==============================] - 0s 170ms/step\n",
      "1/1 [==============================] - 0s 160ms/step\n",
      "1/1 [==============================] - 0s 188ms/step\n",
      "1/1 [==============================] - 0s 215ms/step\n",
      "1/1 [==============================] - 0s 160ms/step\n",
      "1/1 [==============================] - 0s 164ms/step\n",
      "1/1 [==============================] - 0s 158ms/step\n",
      "1/1 [==============================] - 0s 162ms/step\n",
      "1/1 [==============================] - 0s 178ms/step\n",
      "1/1 [==============================] - 0s 160ms/step\n",
      "1/1 [==============================] - 0s 175ms/step\n",
      "1/1 [==============================] - 0s 199ms/step\n",
      "1/1 [==============================] - 0s 170ms/step\n",
      "1/1 [==============================] - 0s 161ms/step\n",
      "1/1 [==============================] - 0s 163ms/step\n",
      "1/1 [==============================] - 0s 155ms/step\n",
      "1/1 [==============================] - 0s 159ms/step\n",
      "1/1 [==============================] - 0s 163ms/step\n",
      "1/1 [==============================] - 0s 181ms/step\n",
      "1/1 [==============================] - 0s 165ms/step\n",
      "True\n"
     ]
    }
   ],
   "source": [
    "cap = cv2.VideoCapture(0)\n",
    "while cap.isOpened():\n",
    "    ret, frame = cap.read()\n",
    "    frame = frame[120:120+250,200:200+250, :]\n",
    "    \n",
    "    cv2.imshow('Verification', frame)\n",
    "    \n",
    "    # Verification trigger\n",
    "    if cv2.waitKey(10) & 0xFF == ord('v'):\n",
    "        # Save input image to application_data/input_image folder \n",
    "        cv2.imwrite(os.path.join('application_data', 'input_image', 'input_image.jpg'), frame)\n",
    "        # Run verification\n",
    "        results, verified = verify(model, 0.9, 0.7)\n",
    "        print(verified)\n",
    "    \n",
    "    if cv2.waitKey(10) & 0xFF == ord('q'):\n",
    "        break\n",
    "cap.release()\n",
    "cv2.destroyAllWindows()"
   ]
  },
  {
   "cell_type": "code",
   "execution_count": 354,
   "metadata": {},
   "outputs": [
    {
     "data": {
      "text/plain": [
       "42"
      ]
     },
     "execution_count": 354,
     "metadata": {},
     "output_type": "execute_result"
    }
   ],
   "source": [
    "np.sum(np.squeeze(results) > 0.9)"
   ]
  },
  {
   "cell_type": "code",
   "execution_count": 355,
   "metadata": {},
   "outputs": [
    {
     "data": {
      "text/plain": [
       "0.64"
      ]
     },
     "execution_count": 355,
     "metadata": {},
     "output_type": "execute_result"
    }
   ],
   "source": [
    "32/50"
   ]
  },
  {
   "cell_type": "code",
   "execution_count": 356,
   "metadata": {},
   "outputs": [
    {
     "data": {
      "text/plain": [
       "[array([[0.9999996]], dtype=float32),\n",
       " array([[0.99999994]], dtype=float32),\n",
       " array([[1.]], dtype=float32),\n",
       " array([[0.99999994]], dtype=float32),\n",
       " array([[0.9999999]], dtype=float32),\n",
       " array([[0.9999999]], dtype=float32),\n",
       " array([[0.999813]], dtype=float32),\n",
       " array([[0.9999871]], dtype=float32),\n",
       " array([[0.99998814]], dtype=float32),\n",
       " array([[0.9999889]], dtype=float32),\n",
       " array([[0.9999921]], dtype=float32),\n",
       " array([[0.9999975]], dtype=float32),\n",
       " array([[0.99999845]], dtype=float32),\n",
       " array([[0.99999774]], dtype=float32),\n",
       " array([[0.9999944]], dtype=float32),\n",
       " array([[0.9999993]], dtype=float32),\n",
       " array([[0.999999]], dtype=float32),\n",
       " array([[0.99999905]], dtype=float32),\n",
       " array([[0.99999917]], dtype=float32),\n",
       " array([[0.9999996]], dtype=float32),\n",
       " array([[0.9999995]], dtype=float32),\n",
       " array([[0.9999992]], dtype=float32),\n",
       " array([[0.99999976]], dtype=float32),\n",
       " array([[0.9999992]], dtype=float32),\n",
       " array([[0.99999833]], dtype=float32),\n",
       " array([[0.9999977]], dtype=float32),\n",
       " array([[0.9999769]], dtype=float32),\n",
       " array([[0.99998176]], dtype=float32),\n",
       " array([[0.9999885]], dtype=float32),\n",
       " array([[0.94122034]], dtype=float32),\n",
       " array([[0.98926044]], dtype=float32),\n",
       " array([[0.99902874]], dtype=float32),\n",
       " array([[0.95519024]], dtype=float32),\n",
       " array([[0.74636114]], dtype=float32),\n",
       " array([[0.20853674]], dtype=float32),\n",
       " array([[0.9716368]], dtype=float32),\n",
       " array([[0.99992317]], dtype=float32),\n",
       " array([[0.8521879]], dtype=float32),\n",
       " array([[0.6891785]], dtype=float32),\n",
       " array([[0.415798]], dtype=float32),\n",
       " array([[0.25138208]], dtype=float32),\n",
       " array([[0.98550874]], dtype=float32),\n",
       " array([[0.9906619]], dtype=float32),\n",
       " array([[0.9993645]], dtype=float32),\n",
       " array([[0.4087003]], dtype=float32),\n",
       " array([[0.34515184]], dtype=float32),\n",
       " array([[0.9718148]], dtype=float32),\n",
       " array([[0.98576754]], dtype=float32),\n",
       " array([[0.95831585]], dtype=float32),\n",
       " array([[0.98295957]], dtype=float32)]"
      ]
     },
     "execution_count": 356,
     "metadata": {},
     "output_type": "execute_result"
    }
   ],
   "source": [
    "results"
   ]
  },
  {
   "cell_type": "code",
   "execution_count": null,
   "metadata": {},
   "outputs": [],
   "source": []
  }
 ],
 "metadata": {
  "colab": {
   "provenance": []
  },
  "kernelspec": {
   "display_name": "Python 3 (ipykernel)",
   "language": "python",
   "name": "python3"
  },
  "language_info": {
   "codemirror_mode": {
    "name": "ipython",
    "version": 3
   },
   "file_extension": ".py",
   "mimetype": "text/x-python",
   "name": "python",
   "nbconvert_exporter": "python",
   "pygments_lexer": "ipython3",
   "version": "3.11.5"
  }
 },
 "nbformat": 4,
 "nbformat_minor": 1
}
